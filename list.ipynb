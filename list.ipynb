{
 "cells": [
  {
   "cell_type": "code",
   "execution_count": 1,
   "id": "ae2e097a",
   "metadata": {},
   "outputs": [
    {
     "name": "stdout",
     "output_type": "stream",
     "text": [
      "enter the value88\n",
      "n0\n"
     ]
    }
   ],
   "source": [
    "val=int(input(\"enter the value\"))\n",
    "list=[2,4,5,6,5]\n",
    "if val in list:\n",
    "    print(\"yes\")\n",
    "else:\n",
    "    print(\"n0\")"
   ]
  },
  {
   "cell_type": "code",
   "execution_count": 2,
   "id": "635d8008",
   "metadata": {},
   "outputs": [
    {
     "name": "stdout",
     "output_type": "stream",
     "text": [
      "enter the value5\n",
      "yes\n"
     ]
    }
   ],
   "source": [
    "val=int(input(\"enter the value\"))\n",
    "list=[2,4,5,6,\"gh\",5]\n",
    "if val in list:\n",
    "    print(\"yes\")\n",
    "else:\n",
    "    print(\"n0\"9"
   ]
  },
  {
   "cell_type": "code",
   "execution_count": 3,
   "id": "25dc4162",
   "metadata": {},
   "outputs": [
    {
     "name": "stdout",
     "output_type": "stream",
     "text": [
      "enter the value9\n",
      "yes\n"
     ]
    }
   ],
   "source": [
    "the_input=int(input(\"enter the value\"))\n",
    "list=[2,4,\"gh\",5,6,5]\n",
    "if val in list:\n",
    "    print(\"yes\")\n",
    "else:\n",
    "    print(\"n0\")"
   ]
  }
 ],
 "metadata": {
  "kernelspec": {
   "display_name": "Python 3 (ipykernel)",
   "language": "python",
   "name": "python3"
  },
  "language_info": {
   "codemirror_mode": {
    "name": "ipython",
    "version": 3
   },
   "file_extension": ".py",
   "mimetype": "text/x-python",
   "name": "python",
   "nbconvert_exporter": "python",
   "pygments_lexer": "ipython3",
   "version": "3.10.6"
  }
 },
 "nbformat": 4,
 "nbformat_minor": 5
}
