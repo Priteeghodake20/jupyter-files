{
 "cells": [
  {
   "cell_type": "code",
   "execution_count": 1,
   "id": "886e02d3",
   "metadata": {},
   "outputs": [
    {
     "name": "stdout",
     "output_type": "stream",
     "text": [
      "enter the value9\n",
      "n0\n"
     ]
    }
   ],
   "source": [
    "the_input=int(input(\"enter the value\"))\n",
    "list=[2,4,\"gh\",5,6,5]\n",
    "if the_input in list:\n",
    "    print(\"yes\")\n",
    "else:\n",
    "    print(\"n0\")"
   ]
  },
  {
   "cell_type": "code",
   "execution_count": 2,
   "id": "6c5a8df1",
   "metadata": {},
   "outputs": [
    {
     "name": "stdout",
     "output_type": "stream",
     "text": [
      "enter the value12\n",
      "n0\n"
     ]
    }
   ],
   "source": [
    "the_input=int(input(\"enter the value\"))\n",
    "list=[2,4,\"gh\",5,6,5]\n",
    "if the_input in list:\n",
    "    print(\"yes\")\n",
    "else:\n",
    "    print(\"n0\")"
   ]
  },
  {
   "cell_type": "code",
   "execution_count": null,
   "id": "fd07650e",
   "metadata": {},
   "outputs": [],
   "source": [
    "the_input=int(input(\"enter the value\"))\n",
    "list=[2,4,\"gh\",5,6,5]\n",
    "if the_input in list:\n",
    "    print(\"yes\")\n",
    "else:\n",
    "    print(\"n0\")"
   ]
  },
  {
   "cell_type": "code",
   "execution_count": null,
   "id": "c69d9623",
   "metadata": {},
   "outputs": [],
   "source": []
  },
  {
   "cell_type": "code",
   "execution_count": null,
   "id": "0e10ac4f",
   "metadata": {},
   "outputs": [],
   "source": []
  }
 ],
 "metadata": {
  "kernelspec": {
   "display_name": "Python 3 (ipykernel)",
   "language": "python",
   "name": "python3"
  },
  "language_info": {
   "codemirror_mode": {
    "name": "ipython",
    "version": 3
   },
   "file_extension": ".py",
   "mimetype": "text/x-python",
   "name": "python",
   "nbconvert_exporter": "python",
   "pygments_lexer": "ipython3",
   "version": "3.10.6"
  }
 },
 "nbformat": 4,
 "nbformat_minor": 5
}
